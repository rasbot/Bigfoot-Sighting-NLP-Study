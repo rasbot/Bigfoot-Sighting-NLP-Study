{
 "cells": [
  {
   "cell_type": "code",
   "execution_count": 1,
   "metadata": {},
   "outputs": [],
   "source": [
    "from bs4 import BeautifulSoup"
   ]
  },
  {
   "cell_type": "code",
   "execution_count": 2,
   "metadata": {},
   "outputs": [
    {
     "name": "stderr",
     "output_type": "stream",
     "text": [
      "//anaconda3/lib/python3.7/site-packages/bs4/__init__.py:272: UserWarning: \"b'data/bigfoot_first100records.json'\" looks like a filename, not markup. You should probably open this file and pass the filehandle into Beautiful Soup.\n",
      "  ' Beautiful Soup.' % markup)\n"
     ]
    }
   ],
   "source": [
    "soup = BeautifulSoup('data/bigfoot_first100records.json', \"html\")"
   ]
  },
  {
   "cell_type": "code",
   "execution_count": 3,
   "metadata": {},
   "outputs": [
    {
     "data": {
      "text/plain": [
       "<html><body><p>data/bigfoot_first100records.json</p></body></html>"
      ]
     },
     "execution_count": 3,
     "metadata": {},
     "output_type": "execute_result"
    }
   ],
   "source": [
    "client = MongoClient('localhost', 27017)\n",
    "db = client.metroid\n",
    "pages = db.pages\n",
    "\n",
    "pages.insert_one({'html': r.content})"
   ]
  },
  {
   "cell_type": "code",
   "execution_count": 4,
   "metadata": {},
   "outputs": [],
   "source": [
    "import json\n",
    "\n",
    "# TODO: this doesn't scale well and doesn't help with looking at the data.\n",
    "#       Possible solutions: load into pandas dataframe or mongodb, maybe both.\n",
    "reports = []\n",
    "with open('data/bigfoot_first100records.json') as f:\n",
    "    for i in f:\n",
    "        reports.append(json.loads(i))"
   ]
  },
  {
   "cell_type": "code",
   "execution_count": null,
   "metadata": {},
   "outputs": [],
   "source": []
  },
  {
   "cell_type": "code",
   "execution_count": 5,
   "metadata": {},
   "outputs": [
    {
     "data": {
      "text/plain": [
       "{'_id': {'$oid': '5939abbd2acdf6607095366c'},\n",
       " 'url': 'show_report.asp?id=13038',\n",
       " 'html': '\\r\\n<!doctype html public \"-//w3c//dtd html 4.0 transitional//en\">\\r\\n<HTML>\\r\\n\\t<HEAD>\\r\\n        <meta http-equiv=\"X-UA-Compatible\" content=\"IE=EmulateIE7\" />\\r\\n        <meta http-equiv=\"Content-Type\" content=\"text/html; charset=iso-8859-1\">\\r\\n    <meta name=\"KEYWORDS\" content=\"bigfoot, big foot, BigFoot, BFRO, Bigfoot research, sightings database, organizations, Organization, sightings, lists, locations, areas, reports, report, ape, apes, forest, giant, giants, monster, monsters, swamp, creek, Florida, Skunk Ape Florida Skuk Ape, Abominable Snowman, Agogwe, Almasti, Batutut-Borneo, Didi, Dwendi, Kakundakari, Kung-Lu, Mapinguary, Muhalu, sasquatch, sasquach, Sedapa, Orang Pendek, Shiru, Sisimite, Skunk Ape, Tok- Burma, Yeti, Yowie, cryptozoology, animals, strange, glowing eyes, foot prints, cast, tracks, fottprint cast, hairy, beast, mystery, paranormal, ufo, x-files, xfiles, bionic woman, sightings, sighting, IVBC, Byrne, report, howl, scream, primate, everglades, Florida Everglades, swamp, Gigantopithecus, missing link, missing, link, anthropology, skunk, monkey, foot, big, encounters, eyewitness reports, North America, Submit a report, reports, Submit an Article, Submit Comments, theories, research projects, track, cast, investigation, hair, microscopy analysis, field research journals, the Gigantopithecus Theory, Sasquatching Equipment, Sasquatching Tips for Collecting Evidence, photograph, tracks, physical evidence, Sounds, Photos\">\\r\\n\\t\\t<TITLE>BFRO Report 13038: Snowmobiler has encounter in deep snow near Potter, AK</TITLE> \\r\\n\\r\\n\\t\\t<script src=\"/fade.js\" language=\"Javascript\"></script>\\r\\n\\t\\t<script type=\"text/javascript\">\\r\\n\\t\\tfunction runLogo() {\\r\\n\\t\\t\\tvar logo = document.getElementById(\"logo\");\\r\\n\\t\\t\\tif(logo != null)\\r\\n\\t\\t\\t{\\r\\n\\t\\t\\t\\tlogo.src=logo.src + \\'a;\\'\\r\\n\\t\\t\\t}\\r\\n\\t\\t}\\r\\n\\t\\t\\r\\n\\t\\t</script>\\r\\n\\r\\n\\r\\n\\t\\t<!-- /Flash Browser Detection Script -->\\r\\n    <LINK rel=\"STYLESHEET\" href=\"/bfro_v2.css\" type=\"text/css\">\\r\\n    <LINK REL=\"SHORTCUT ICON\" HREF=\"http://www.bfro.net/favicon.ico\">\\r\\n\\t</HEAD>\\r\\n\\t<BODY onLoad=\"runLogo()\"  bgcolor=\"#000000\" topmargin=\"0\" leftmargin=\"0\">\\r\\n\\r\\n\\t\\t\\t<SCRIPT>\\r\\n\\t\\t\\t<!--\\r\\n\\t\\t\\t\\tif (document.images) \\r\\n\\t\\t\\t\\t{\\r\\n\\t\\t\\t\\t\\tb_Media_Articles = new Image();\\r\\n\\t\\t\\t\\t\\tb_Media_Articles.src = \"/images/templates/b-Media%20Articles_hl.jpg\";\\r\\n\\t\\t\\t\\t\\tb_Media_Articles_orig = new Image();\\r\\n\\t\\t\\t\\t\\tb_Media_Articles_orig.src = \"/images/templates/b-Media%20Articles.jpg\";\\r\\n\\t\\t\\t\\t\\tb_ReportForm = new Image();\\r\\n\\t\\t\\t\\t\\tb_ReportForm.src = \"/images/templates/b-Report%20Form_hl.jpg\";\\r\\n\\t\\t\\t\\t\\tb_ReportForm_orig = new Image();\\r\\n\\t\\t\\t\\t\\tb_ReportForm_orig.src = \"/images/templates/b-Report%20Form.jpg\";\\r\\n\\t\\t\\t\\t\\tb_Home = new Image();\\r\\n\\t\\t\\t\\t\\tb_Home.src = \"/images/templates/b-Home_hl.jpg\";\\r\\n\\t\\t\\t\\t\\tb_Home_orig = new Image();\\r\\n\\t\\t\\t\\t\\tb_Home_orig.src = \"/images/templates/b-Home.jpg\";\\r\\n\\t\\t\\t\\t}\\r\\n\\r\\n\\t\\t\\t\\tfunction turnOn(imageName) \\r\\n\\t\\t\\t\\t{\\r\\n\\t\\t\\t\\t\\tif (document.images) \\r\\n\\t\\t\\t\\t\\t{\\r\\n\\t\\t\\t\\t\\t\\tdocument[imageName].src = eval(imageName + \".src\");  \\r\\n\\t\\t\\t\\t\\t}\\r\\n\\t\\t\\t\\t}\\r\\n\\r\\n\\t\\t\\t\\tfunction turnOff(imageName) \\r\\n\\t\\t\\t\\t{  \\r\\n\\t\\t\\t\\t\\tif (document.images) \\r\\n\\t\\t\\t\\t\\t{\\r\\n\\t\\t\\t\\t\\t\\t\\tdocument[imageName].src = eval(imageName + \"_orig.src\");  \\r\\n\\t\\t\\t\\t\\t}\\r\\n\\t\\t\\t\\t}\\r\\n\\t\\t\\t\\t-->\\r\\n\\t\\t\\t</SCRIPT>\\r\\n\\t\\t\\t<SCRIPT language=\"JavaScript1.2\" src=\"/images/templates/bfro_data.asp\"></SCRIPT>\\r\\n\\t\\t\\t<SCRIPT language=\"JavaScript1.2\" src=\"/images/templates/dqm_script.js\"></SCRIPT>\\r\\n\\t\\t\\t<table border=\"0\" align=\"left\" cellpadding=\"0\" cellspacing=\"0\" width=\"780\">\\r\\n\\t\\t\\t\\t<tr>\\r\\n\\t\\t\\t\\t\\t<td width=\"130\" valign=\"top\" align=\"middle\">\\r\\n\\t\\t\\t\\t\\t\\t\\r\\n    <table border=\"0\" align=\"left\" cellpadding=\"0\" cellspacing=\"0\" width=\"130\">\\r\\n      <tr> \\r\\n        <td height=\"130\" width=\"130\" align=\"middle\">  \\r\\n          <a href=\"/\"><img id=\"logo\" alt=\"Bigfoot Field Researchers Organization Logo\" src=\"/images/templates/LogoSpin.gif?\" onMouseOver=\"runLogo();\" height=\"130\" width=\"130\" border=\"0\"></a>\\r\\n          <NOSCRIPT>  <a href=\"/\"><img alt=\"Bigfoot Field Researchers Organization Logo\" src=\"/images/templates/LogoSpin.gif?\" onMouseOver=\"runLogo();\" height=\"130\" width=\"130\" border=\"0\"></a> \\r\\n           </NOSCRIPT>  </td>\\r\\n      </tr>\\r\\n      <tr> \\r\\n        <td align=\"left\" valign=\"top\"> \\r\\n          <table border=\"0\" cellpadding=\"0\" cellspacing=\"0\">\\r\\n            <tr> \\r\\n              <td colspan=\"2\"><IMG SRC=\"/images/templates/Outline_01.gif\" WIDTH=\"130\" HEIGHT=\"15\"></td>\\r\\n            </tr>\\r\\n            <tr> \\r\\n              <td><IMG SRC=\"/images/templates/Outline_02.gif\" WIDTH=\"15\" HEIGHT=\"20\"></td>\\r\\n              <td><A HREF=\"/\" onMouseOver=\"turnOn(\\'b_Home\\');\" onMouseOut=\"turnOff(\\'b_Home\\');\"><IMG NAME=\"b_Home\" SRC=\"/images/templates/b-Home.jpg\" WIDTH=\"130\" HEIGHT=\"20\" BORDER=\"0\"></A></td>\\r\\n            </tr>\\r\\n            <tr> \\r\\n              <td><IMG SRC=\"/images/templates/Outline_02.gif\" WIDTH=\"15\" HEIGHT=\"20\"></td>\\r\\n              <td><A HREF=\"/\"><img border=\"0\" src=\"/images/templates/b-Features.jpg\" width=\"130\" height=\"20\" name=\"menu0\" id=\"menu0\" onMouseOver=\"showMenu(event)\" onMouseOut=\"hideMenu(event)\"></A></td>\\r\\n            </tr>\\r\\n            <tr> \\r\\n              <td><IMG SRC=\"/images/templates/Outline_02.gif\" WIDTH=\"15\" HEIGHT=\"20\"></td>\\r\\n              <td><A HREF=\"/GDB/\"><img border=\"0\" src=\"/images/templates/b-Reports.jpg\" width=\"130\" height=\"20\" name=\"menu1\" id=\"menu1\" onMouseOver=\"showMenu(event)\" onMouseOut=\"hideMenu(event)\"></A></td>\\r\\n            </tr>\\r\\n            <tr> \\r\\n              <td><IMG SRC=\"/images/templates/Outline_02.gif\" WIDTH=\"15\" HEIGHT=\"20\"></td>\\r\\n              <td><A HREF=\"/GDB/newart.asp\" onMouseOver=\"turnOn(\\'b_Media_Articles\\');\" onMouseOut=\"turnOff(\\'b_Media_Articles\\');\"><IMG NAME=\"b_Media_Articles\" SRC=\"/images/templates/b-Media%20Articles.jpg\" WIDTH=\"130\" HEIGHT=\"20\" BORDER=\"0\"></A></td>\\r\\n            </tr>\\r\\n            <tr> \\r\\n              <td><IMG SRC=\"/images/templates/Outline_02.gif\" WIDTH=\"15\" HEIGHT=\"20\"></td>\\r\\n              <td><A HREF=\"/GDB/submitfm.asp\" onMouseOver=\"turnOn(\\'b_ReportForm\\');\" onMouseOut=\"turnOff(\\'b_ReportForm\\');\"><IMG NAME=\"b_ReportForm\" SRC=\"/images/templates/b-Report%20Form.jpg\" WIDTH=\"130\" HEIGHT=\"20\" BORDER=\"0\"></A></td>\\r\\n            </tr>\\r\\n            <tr> \\r\\n              <td><IMG SRC=\"/images/templates/Outline_02.gif\" WIDTH=\"15\" HEIGHT=\"20\"></td>\\r\\n              <td><a href=\"/gdb/show_fAQ.asp?id=405\"><img border=\"0\" src=\"/images/templates/b-FAQs.jpg\" width=\"130\" height=\"20\" name=\"menu2\" id=\"menu2\" onMouseOver=\"showMenu(event)\" onMouseOut=\"hideMenu(event)\"></a></td>\\r\\n            </tr>\\r\\n            <tr> \\r\\n              <td><IMG SRC=\"/images/templates/Outline_02.gif\" WIDTH=\"15\" HEIGHT=\"20\"></td>\\r\\n              <td><a href=\"/GDB/theories.asp\"><img border=\"0\" src=\"/images/templates/b-Departments.jpg\" width=\"130\" height=\"20\" name=\"menu3\" id=\"menu3\" onMouseOver=\"showMenu(event)\" onMouseOut=\"hideMenu(event)\"></a></td>\\r\\n            </tr>\\r\\n            <tr> \\r\\n              <td colspan=\"2\"><IMG SRC=\"/images/templates/Outline_05.gif\" WIDTH=\"130\" HEIGHT=\"15\"></td>\\r\\n            </tr>\\r\\n          </table>\\r\\n        </td>\\r\\n      </tr>\\r\\n      <tr align=\"left\" bordercolor=\"3\"> \\r\\n        <td style=\"padding-right: 13px; padding-left: 13px; font-size: 10pt\"> \\r\\n          <div align=\"left\">&nbsp;<br>\\r\\n            <br>\\r\\n            \\r\\n             </div>\\r\\n        </td></tr>\\r\\n<tr>\\r\\n  <td><a href=\"http://www.bfro.net/news/townhall.asp\"><img src=\"http://www.bfro.net/gdb/images/townhall_sidebar.gif\" alt=\"townhall\" width=\"135\" height=\"141\" border=\"3\"></a><br><br><br>\\r\\n    <a href=\"http://www.bfro.net/news/roundup/expeds_2017.asp\">\\r\\n<img src=\"http://www.bfro.net/gdb/images/exped_2017_map_sidebar.gif\" alt=\"expeds\" width=\"135\" height=\"127\" border=\"3\"></a><br>\\r\\n<!--<br>\\r\\n<br><br>\\r\\n<a href=\"http://www.bfro.net/merchandise/catalog.asp\"><img src=\"http://www.bfro.net/gdb/images/bfro_store_margin_banner.gif\" alt=\"store\" width=\"135\" height=\"81\" border=\"3\"></a>-->\\r\\n<br>\\r\\n<br>\\r\\n<a href=\"http://www.bfro.net/merchandise/catalog.asp\"><img src=\"http://www.bfro.net/gdb/images/margin_icon_store.gif\" alt=\"store\" width=\"135\" height=\"148\" border=\"3\"></a><br>\\r\\n<br><br><br>\\r\\n\\r\\n    <div id=\"google_translate_element\"></div><script>\\r\\nfunction googleTranslateElementInit() {\\r\\n  new google.translate.TranslateElement({\\r\\n    pageLanguage: \\'en\\'\\r\\n  }, \\'google_translate_element\\');\\r\\n}\\r\\n</script><script src=\"//translate.google.com/translate_a/element.js?cb=googleTranslateElementInit\"></script>\\r\\n<br><br>\\r\\n\\r\\n<!-- AddThis Button BEGIN -->\\r\\n<div class=\"addthis_toolbox addthis_default_style \">\\r\\n<a class=\"addthis_button_preferred_1\"></a>\\r\\n<a class=\"addthis_button_preferred_2\"></a>\\r\\n<a class=\"addthis_button_preferred_3\"></a>\\r\\n<a class=\"addthis_button_preferred_4\"></a>\\r\\n<a class=\"addthis_button_compact\"></a>\\r\\n<a class=\"addthis_counter addthis_bubble_style\"></a>\\r\\n</div>\\r\\n<script type=\"text/javascript\">var addthis_config = {\"data_track_clickback\":true};</script>\\r\\n<script type=\"text/javascript\" src=\"http://s7.addthis.com/js/250/addthis_widget.js#pubid=ra-4e017f48386f7ed9\"></script>\\r\\n<!-- AddThis Button END -->\\r\\n\\r\\n\\r\\n\\r\\n</td></tr>\\r\\n\\r\\n\\r\\n    </table>\\r\\n    \\r\\n    \\r\\n\\t\\t\\t\\t\\t\\t<!-- BEGIN CONTENT SECTION -->\\r\\n\\r\\n\\r\\n\\t\\t\\t\\t\\t</td>\\r\\n\\t\\t\\t\\t\\t<td>\\r\\n\\t\\t\\t\\t\\t\\t<img src=\"/images/templates/spacer.gif\" width=\"1\" height=\"400\" align=>\\r\\n\\t\\t\\t\\t\\t</td>\\r\\n\\t\\t\\t\\t\\t<td valign=\"top\" align=\"left\">\\r\\n\\t<table border=0 cellpadding=14 cellspacing=5 width=\"100%\" bgcolor=\"#003333\" ID=\"Table1\">\\r\\n\\t<tr><td>\\r\\n\\r\\n\\t\\t<span style=\"font-size: 10pt\"><a href=\"/gdb/\">Geographical Index</a> &gt; <a href=\"/gdb/#usa\">United States</a> &gt; <a href=\"/GDB/state_listing.asp?state=AK\">Alaska</a> &gt; <a href=\"/GDB/show_county_reports.asp?state=AK&county=Anchorage\">Anchorage County</a> &gt; Report # 13038<br>&nbsp;<br></span>\\r\\n    <span class=reportheader>Report # 13038</span>&nbsp;&nbsp;<span class=reportclassification>(Class A)</span>\\r\\n      <BR>\\r\\n      <span class=field>Submitted  by  witness   on Saturday,&nbsp;November&nbsp;12,&nbsp;2005.</span>\\r\\n    <hr size=\"5\" noshade color=\"#009900\">\\r\\n\\r\\n    <span class=field>Snowmobiler has encounter in deep snow near Potter, AK</span>\\r\\n    <hr size=\"5\" noshade color=\"#009900\">\\r\\n\\r\\n    <span style=\"font-size:10pt\"><a href=\"/GDB/show_report.asp?ID=13038&PrinterFriendly=True\">(Show Printer-friendly Version)</a></span>\\r\\n    \\r\\n    <p><span class=field>YEAR:</span> 2004</p>\\r\\n<p><span class=field>SEASON:</span> Winter</p><p><span class=field>MONTH:</span> February</p><p><span class=field>STATE:</span> <a href=\"/GDB/state_listing.asp?state=AK\">Alaska</a></p><p><span class=field>COUNTY:</span> <a href=\"/GDB/show_county_reports.asp?state=AK&county=Anchorage\">Anchorage County</a></p><p><span class=field>LOCATION DETAILS:</span> Up near powerline clearings east of Potter Marsh in Anchorage.</p><p><span class=field>NEAREST TOWN:</span> Anchorage / Hillside</p><p><span class=field>NEAREST ROAD:</span> No real roads in the area</p><p><span class=field>OBSERVED:</span> I and two of my friends were bored one night so we decided to do a little snowmachining. Though it was illegal to snowmachine in Anchorage, there were some good trails to ride on a little north of my house.  <BR><BR>We took off at probably 11 pm, rode up the road about a quarter mile, and cut off on the trails. It had snowed about 10 inches a few days before so there was fresh snow, with no tracks.  <BR><BR>I was leading the way for about a half hour, then we stopped and talked for a little bit.  We took off again and kept cruising on some sort of game trail that led to an opening in the woods.  I rode off into the opening with my friends following about fifty yards behind me.  <BR><BR>I came over this little mound and saw strange tracks leading to this spot in the snow where it looked like something had pushed aside some snow and layed down.  I figured it was just a moose or something.  But I followed the tracks over the next small hill and as I came down the far side my headlight pointed right on the back of a bigfoot. <BR><BR> It was only about 10 to 12 feet in front of me.  It was running in the opposite direction.  I slammed on the brakes because I was scared out of my mind.  It continued to run away, jumped over a dead log covered in snow and disappeared into a group of trees and into the darkness.  <BR><BR>I was so surprised and scared I quickly turned around and rode back toward my friends. I met them back by the first mound and said \"We need to get out of here,\"  and rode back towards my house.  When I told them about it back near my house, they laughed and told me it was probably a bear or someone in the woods.  But I was 100% positive that is was not a bear or anything else. <BR><BR>The way it was running through the deep snow made me sure that it wasn\\'t anything human.  For a long time I was made fun of and everyone told me I was crazy so I didn\\'t like talking about it.  </p><p><span class=field>ALSO NOTICED:</span> Some tracks in the snow, and a clearing in the fresh snow where it looked like a large animal had pushed snow aside and layed down.</p><p><span class=field>OTHER WITNESSES:</span> My two friends were snowmachining behind me but did not see it. If it had been light outside they might have seen it, but it was pitch black outside. My only light was from my snowmachine.</p><p><span class=field>OTHER STORIES:</span> I have not heard of any other incidents in Anchorage.</p><p><span class=field>TIME AND CONDITIONS:</span> Middle of the night. The only light was the headlight from my snowmachine.</p><p><span class=field>ENVIRONMENT:</span> In the middle of the woods, in a clearing covered in snow, with only small shrubs and bushes sticking out of the snow.  In the middle of the night.</p>\\r\\n    <hr size=\"5\" noshade color=\"#009900\">\\r\\n    <p>Follow-up investigation report by BFRO Investigator Dr. Wolf H. Fahrenbach:</p>\\r\\n    <blockquote>\\r\\n      <p>The animal was running from the approaching snowmobiles. <BR><BR>It was running smoothly with angled elbows, totally unimpeded by the fresh snow, which was about a foot deep and still falling on top of a deeper base. <BR><BR>It was dark brown in color, with a messy, matted coat and no perceptible neck.<BR><BR>The area of the encounter lies near a clear-cut lane for a pipeline and is within about a mile of the Anchorage Coastal Wildlife Refuge and Potter\\'s Marsh in wooded terrain.<BR></p>\\r\\n    </blockquote>\\r\\n\\r\\n    <hr size=\"5\" noshade color=\"#009900\">\\r\\n    <p>About BFRO Investigator Dr. Wolf H. Fahrenbach:</p>\\r\\n    <blockquote>\\r\\n      <p>Hair analysis since 1965.  Field work since 1989. Sasquatch courses given in Oregon and Arizona (3-10 weeks duration); Published in Cryptozoology.</p>\\r\\n    </blockquote>\\r\\n\\r\\n    <hr size=\"5\" noshade color=\"#009900\">\\r\\n\\r\\n    <ul>\\r\\n\\t\\t\\t<li><a href=\"/gdb/classify.asp\">Explanation of the report classification system</a></li>\\r\\n\\t\\t\\t\\r\\n        <li><a href=\"/GDB/submitfm.asp\">Submit a report for the sightings database</a></li>\\r\\n\\t\\t\\t<!--<li><a href=\"/GDB/comments.asp?CommentURL=http%3A%2F%2Fwww%2Ebfro%2Enet%2FGDB%2Fshow%5Freport%2Easp%3Fid%3D13038\">Submit a comment or article</a></li>-->\\r\\n\\t\\t\\t<li>Please send any comments or inquiries to Contact@BFRO.net</li>\\r\\n\\t\\t</ul>\\r\\n\\t\\t</td></tr></table><BR>&nbsp;\\r\\n\\r\\n\\t\\t\\t\\t\\t<!-- END CONTENT SECTION -->\\r\\n\\t\\t\\t\\t</td>\\r\\n\\t\\t\\t</tr>\\r\\n\\t\\t\\t<tr>\\r\\n\\t\\t\\t\\t<td colspan=\"2\" width=\"131\"><img src=\"/images/templates/spacer.gif\" width=\"131\" height=\"1\"></td>\\r\\n\\t\\t\\t\\t<td align=\"left\">&nbsp;&nbsp;<span class=\"smallprint\">Copyright &copy; 2017<!--2017--> BFRO.net</span>\\r\\n\\t\\t\\t\\t<br>&nbsp;\\r\\n\\t\\t\\t\\t<br><img src=\"/images/templates/spacer.gif\" wwidth=\"649\" height=\"1\"></td></tr>\\r\\n\\t\\t</table>\\r\\n\\r\\n<script type=\"text/javascript\">runLogo();</script>\\r\\n\\t</BODY>\\r\\n</HTML>\\r\\n\\r\\n',\n",
       " 'time': 'Thu Jun  8 19:55:40 2017'}"
      ]
     },
     "execution_count": 5,
     "metadata": {},
     "output_type": "execute_result"
    }
   ],
   "source": [
    "reports[0]"
   ]
  },
  {
   "cell_type": "code",
   "execution_count": 42,
   "metadata": {},
   "outputs": [
    {
     "ename": "TypeError",
     "evalue": "list indices must be integers or slices, not str",
     "output_type": "error",
     "traceback": [
      "\u001b[0;31m---------------------------------------------------------------------------\u001b[0m",
      "\u001b[0;31mTypeError\u001b[0m                                 Traceback (most recent call last)",
      "\u001b[0;32m<ipython-input-42-81704b72626b>\u001b[0m in \u001b[0;36m<module>\u001b[0;34m\u001b[0m\n\u001b[0;32m----> 1\u001b[0;31m \u001b[0msoup\u001b[0m \u001b[0;34m=\u001b[0m \u001b[0mBeautifulSoup\u001b[0m\u001b[0;34m(\u001b[0m\u001b[0mreports\u001b[0m\u001b[0;34m[\u001b[0m\u001b[0;34m'html'\u001b[0m\u001b[0;34m]\u001b[0m\u001b[0;34m,\u001b[0m \u001b[0;34m\"html.parser\"\u001b[0m\u001b[0;34m)\u001b[0m\u001b[0;34m\u001b[0m\u001b[0;34m\u001b[0m\u001b[0m\n\u001b[0m",
      "\u001b[0;31mTypeError\u001b[0m: list indices must be integers or slices, not str"
     ]
    }
   ],
   "source": [
    "soup = BeautifulSoup(reports['html'], \"html.parser\")"
   ]
  },
  {
   "cell_type": "code",
   "execution_count": 16,
   "metadata": {},
   "outputs": [
    {
     "data": {
      "text/plain": [
       "\n",
       "<!DOCTYPE doctype html public \"-//w3c//dtd html 4.0 transitional//en\">\n",
       "\n",
       "<html>\n",
       "<head>\n",
       "<meta content=\"IE=EmulateIE7\" http-equiv=\"X-UA-Compatible\"/>\n",
       "<meta content=\"text/html; charset=utf-8\" http-equiv=\"Content-Type\"/>\n",
       "<meta content=\"bigfoot, big foot, BigFoot, BFRO, Bigfoot research, sightings database, organizations, Organization, sightings, lists, locations, areas, reports, report, ape, apes, forest, giant, giants, monster, monsters, swamp, creek, Florida, Skunk Ape Florida Skuk Ape, Abominable Snowman, Agogwe, Almasti, Batutut-Borneo, Didi, Dwendi, Kakundakari, Kung-Lu, Mapinguary, Muhalu, sasquatch, sasquach, Sedapa, Orang Pendek, Shiru, Sisimite, Skunk Ape, Tok- Burma, Yeti, Yowie, cryptozoology, animals, strange, glowing eyes, foot prints, cast, tracks, fottprint cast, hairy, beast, mystery, paranormal, ufo, x-files, xfiles, bionic woman, sightings, sighting, IVBC, Byrne, report, howl, scream, primate, everglades, Florida Everglades, swamp, Gigantopithecus, missing link, missing, link, anthropology, skunk, monkey, foot, big, encounters, eyewitness reports, North America, Submit a report, reports, Submit an Article, Submit Comments, theories, research projects, track, cast, investigation, hair, microscopy analysis, field research journals, the Gigantopithecus Theory, Sasquatching Equipment, Sasquatching Tips for Collecting Evidence, photograph, tracks, physical evidence, Sounds, Photos\" name=\"KEYWORDS\"/>\n",
       "<title>BFRO Report 13038: Snowmobiler has encounter in deep snow near Potter, AK</title>\n",
       "<script language=\"Javascript\" src=\"/fade.js\"></script>\n",
       "<script type=\"text/javascript\">\n",
       "\t\tfunction runLogo() {\n",
       "\t\t\tvar logo = document.getElementById(\"logo\");\n",
       "\t\t\tif(logo != null)\n",
       "\t\t\t{\n",
       "\t\t\t\tlogo.src=logo.src + 'a;'\n",
       "\t\t\t}\n",
       "\t\t}\n",
       "\t\t\n",
       "\t\t</script>\n",
       "<!-- /Flash Browser Detection Script -->\n",
       "<link href=\"/bfro_v2.css\" rel=\"STYLESHEET\" type=\"text/css\"/>\n",
       "<link href=\"http://www.bfro.net/favicon.ico\" rel=\"SHORTCUT ICON\"/>\n",
       "</head>\n",
       "<body bgcolor=\"#000000\" leftmargin=\"0\" onload=\"runLogo()\" topmargin=\"0\">\n",
       "<script>\n",
       "\t\t\t<!--\n",
       "\t\t\t\tif (document.images) \n",
       "\t\t\t\t{\n",
       "\t\t\t\t\tb_Media_Articles = new Image();\n",
       "\t\t\t\t\tb_Media_Articles.src = \"/images/templates/b-Media%20Articles_hl.jpg\";\n",
       "\t\t\t\t\tb_Media_Articles_orig = new Image();\n",
       "\t\t\t\t\tb_Media_Articles_orig.src = \"/images/templates/b-Media%20Articles.jpg\";\n",
       "\t\t\t\t\tb_ReportForm = new Image();\n",
       "\t\t\t\t\tb_ReportForm.src = \"/images/templates/b-Report%20Form_hl.jpg\";\n",
       "\t\t\t\t\tb_ReportForm_orig = new Image();\n",
       "\t\t\t\t\tb_ReportForm_orig.src = \"/images/templates/b-Report%20Form.jpg\";\n",
       "\t\t\t\t\tb_Home = new Image();\n",
       "\t\t\t\t\tb_Home.src = \"/images/templates/b-Home_hl.jpg\";\n",
       "\t\t\t\t\tb_Home_orig = new Image();\n",
       "\t\t\t\t\tb_Home_orig.src = \"/images/templates/b-Home.jpg\";\n",
       "\t\t\t\t}\n",
       "\n",
       "\t\t\t\tfunction turnOn(imageName) \n",
       "\t\t\t\t{\n",
       "\t\t\t\t\tif (document.images) \n",
       "\t\t\t\t\t{\n",
       "\t\t\t\t\t\tdocument[imageName].src = eval(imageName + \".src\");  \n",
       "\t\t\t\t\t}\n",
       "\t\t\t\t}\n",
       "\n",
       "\t\t\t\tfunction turnOff(imageName) \n",
       "\t\t\t\t{  \n",
       "\t\t\t\t\tif (document.images) \n",
       "\t\t\t\t\t{\n",
       "\t\t\t\t\t\t\tdocument[imageName].src = eval(imageName + \"_orig.src\");  \n",
       "\t\t\t\t\t}\n",
       "\t\t\t\t}\n",
       "\t\t\t\t-->\n",
       "\t\t\t</script>\n",
       "<script language=\"JavaScript1.2\" src=\"/images/templates/bfro_data.asp\"></script>\n",
       "<script language=\"JavaScript1.2\" src=\"/images/templates/dqm_script.js\"></script>\n",
       "<table align=\"left\" border=\"0\" cellpadding=\"0\" cellspacing=\"0\" width=\"780\">\n",
       "<tr>\n",
       "<td align=\"middle\" valign=\"top\" width=\"130\">\n",
       "<table align=\"left\" border=\"0\" cellpadding=\"0\" cellspacing=\"0\" width=\"130\">\n",
       "<tr>\n",
       "<td align=\"middle\" height=\"130\" width=\"130\">\n",
       "<a href=\"/\"><img alt=\"Bigfoot Field Researchers Organization Logo\" border=\"0\" height=\"130\" id=\"logo\" onmouseover=\"runLogo();\" src=\"/images/templates/LogoSpin.gif?\" width=\"130\"/></a>\n",
       "<noscript> <a href=\"/\"><img alt=\"Bigfoot Field Researchers Organization Logo\" border=\"0\" height=\"130\" onmouseover=\"runLogo();\" src=\"/images/templates/LogoSpin.gif?\" width=\"130\"/></a>\n",
       "</noscript> </td>\n",
       "</tr>\n",
       "<tr>\n",
       "<td align=\"left\" valign=\"top\">\n",
       "<table border=\"0\" cellpadding=\"0\" cellspacing=\"0\">\n",
       "<tr>\n",
       "<td colspan=\"2\"><img height=\"15\" src=\"/images/templates/Outline_01.gif\" width=\"130\"/></td>\n",
       "</tr>\n",
       "<tr>\n",
       "<td><img height=\"20\" src=\"/images/templates/Outline_02.gif\" width=\"15\"/></td>\n",
       "<td><a href=\"/\" onmouseout=\"turnOff('b_Home');\" onmouseover=\"turnOn('b_Home');\"><img border=\"0\" height=\"20\" name=\"b_Home\" src=\"/images/templates/b-Home.jpg\" width=\"130\"/></a></td>\n",
       "</tr>\n",
       "<tr>\n",
       "<td><img height=\"20\" src=\"/images/templates/Outline_02.gif\" width=\"15\"/></td>\n",
       "<td><a href=\"/\"><img border=\"0\" height=\"20\" id=\"menu0\" name=\"menu0\" onmouseout=\"hideMenu(event)\" onmouseover=\"showMenu(event)\" src=\"/images/templates/b-Features.jpg\" width=\"130\"/></a></td>\n",
       "</tr>\n",
       "<tr>\n",
       "<td><img height=\"20\" src=\"/images/templates/Outline_02.gif\" width=\"15\"/></td>\n",
       "<td><a href=\"/GDB/\"><img border=\"0\" height=\"20\" id=\"menu1\" name=\"menu1\" onmouseout=\"hideMenu(event)\" onmouseover=\"showMenu(event)\" src=\"/images/templates/b-Reports.jpg\" width=\"130\"/></a></td>\n",
       "</tr>\n",
       "<tr>\n",
       "<td><img height=\"20\" src=\"/images/templates/Outline_02.gif\" width=\"15\"/></td>\n",
       "<td><a href=\"/GDB/newart.asp\" onmouseout=\"turnOff('b_Media_Articles');\" onmouseover=\"turnOn('b_Media_Articles');\"><img border=\"0\" height=\"20\" name=\"b_Media_Articles\" src=\"/images/templates/b-Media%20Articles.jpg\" width=\"130\"/></a></td>\n",
       "</tr>\n",
       "<tr>\n",
       "<td><img height=\"20\" src=\"/images/templates/Outline_02.gif\" width=\"15\"/></td>\n",
       "<td><a href=\"/GDB/submitfm.asp\" onmouseout=\"turnOff('b_ReportForm');\" onmouseover=\"turnOn('b_ReportForm');\"><img border=\"0\" height=\"20\" name=\"b_ReportForm\" src=\"/images/templates/b-Report%20Form.jpg\" width=\"130\"/></a></td>\n",
       "</tr>\n",
       "<tr>\n",
       "<td><img height=\"20\" src=\"/images/templates/Outline_02.gif\" width=\"15\"/></td>\n",
       "<td><a href=\"/gdb/show_fAQ.asp?id=405\"><img border=\"0\" height=\"20\" id=\"menu2\" name=\"menu2\" onmouseout=\"hideMenu(event)\" onmouseover=\"showMenu(event)\" src=\"/images/templates/b-FAQs.jpg\" width=\"130\"/></a></td>\n",
       "</tr>\n",
       "<tr>\n",
       "<td><img height=\"20\" src=\"/images/templates/Outline_02.gif\" width=\"15\"/></td>\n",
       "<td><a href=\"/GDB/theories.asp\"><img border=\"0\" height=\"20\" id=\"menu3\" name=\"menu3\" onmouseout=\"hideMenu(event)\" onmouseover=\"showMenu(event)\" src=\"/images/templates/b-Departments.jpg\" width=\"130\"/></a></td>\n",
       "</tr>\n",
       "<tr>\n",
       "<td colspan=\"2\"><img height=\"15\" src=\"/images/templates/Outline_05.gif\" width=\"130\"/></td>\n",
       "</tr>\n",
       "</table>\n",
       "</td>\n",
       "</tr>\n",
       "<tr align=\"left\" bordercolor=\"3\">\n",
       "<td style=\"padding-right: 13px; padding-left: 13px; font-size: 10pt\">\n",
       "<div align=\"left\"> <br/>\n",
       "<br/>\n",
       "</div>\n",
       "</td></tr>\n",
       "<tr>\n",
       "<td><a href=\"http://www.bfro.net/news/townhall.asp\"><img alt=\"townhall\" border=\"3\" height=\"141\" src=\"http://www.bfro.net/gdb/images/townhall_sidebar.gif\" width=\"135\"/></a><br/><br/><br/>\n",
       "<a href=\"http://www.bfro.net/news/roundup/expeds_2017.asp\">\n",
       "<img alt=\"expeds\" border=\"3\" height=\"127\" src=\"http://www.bfro.net/gdb/images/exped_2017_map_sidebar.gif\" width=\"135\"/></a><br/>\n",
       "<!--<br>\n",
       "<br><br>\n",
       "<a href=\"http://www.bfro.net/merchandise/catalog.asp\"><img src=\"http://www.bfro.net/gdb/images/bfro_store_margin_banner.gif\" alt=\"store\" width=\"135\" height=\"81\" border=\"3\"></a>-->\n",
       "<br/>\n",
       "<br/>\n",
       "<a href=\"http://www.bfro.net/merchandise/catalog.asp\"><img alt=\"store\" border=\"3\" height=\"148\" src=\"http://www.bfro.net/gdb/images/margin_icon_store.gif\" width=\"135\"/></a><br/>\n",
       "<br/><br/><br/>\n",
       "<div id=\"google_translate_element\"></div><script>\n",
       "function googleTranslateElementInit() {\n",
       "  new google.translate.TranslateElement({\n",
       "    pageLanguage: 'en'\n",
       "  }, 'google_translate_element');\n",
       "}\n",
       "</script><script src=\"//translate.google.com/translate_a/element.js?cb=googleTranslateElementInit\"></script>\n",
       "<br/><br/>\n",
       "<!-- AddThis Button BEGIN -->\n",
       "<div class=\"addthis_toolbox addthis_default_style\">\n",
       "<a class=\"addthis_button_preferred_1\"></a>\n",
       "<a class=\"addthis_button_preferred_2\"></a>\n",
       "<a class=\"addthis_button_preferred_3\"></a>\n",
       "<a class=\"addthis_button_preferred_4\"></a>\n",
       "<a class=\"addthis_button_compact\"></a>\n",
       "<a class=\"addthis_counter addthis_bubble_style\"></a>\n",
       "</div>\n",
       "<script type=\"text/javascript\">var addthis_config = {\"data_track_clickback\":true};</script>\n",
       "<script src=\"http://s7.addthis.com/js/250/addthis_widget.js#pubid=ra-4e017f48386f7ed9\" type=\"text/javascript\"></script>\n",
       "<!-- AddThis Button END -->\n",
       "</td></tr>\n",
       "</table>\n",
       "<!-- BEGIN CONTENT SECTION -->\n",
       "</td>\n",
       "<td>\n",
       "<img align=\"\" height=\"400\" src=\"/images/templates/spacer.gif\" width=\"1\"/>\n",
       "</td>\n",
       "<td align=\"left\" valign=\"top\">\n",
       "<table bgcolor=\"#003333\" border=\"0\" cellpadding=\"14\" cellspacing=\"5\" id=\"Table1\" width=\"100%\">\n",
       "<tr><td>\n",
       "<span style=\"font-size: 10pt\"><a href=\"/gdb/\">Geographical Index</a> &gt; <a href=\"/gdb/#usa\">United States</a> &gt; <a href=\"/GDB/state_listing.asp?state=AK\">Alaska</a> &gt; <a href=\"/GDB/show_county_reports.asp?state=AK&amp;county=Anchorage\">Anchorage County</a> &gt; Report # 13038<br/> <br/></span>\n",
       "<span class=\"reportheader\">Report # 13038</span>  <span class=\"reportclassification\">(Class A)</span>\n",
       "<br/>\n",
       "<span class=\"field\">Submitted  by  witness   on Saturday, November 12, 2005.</span>\n",
       "<hr color=\"#009900\" noshade=\"\" size=\"5\"/>\n",
       "<span class=\"field\">Snowmobiler has encounter in deep snow near Potter, AK</span>\n",
       "<hr color=\"#009900\" noshade=\"\" size=\"5\"/>\n",
       "<span style=\"font-size:10pt\"><a href=\"/GDB/show_report.asp?ID=13038&amp;PrinterFriendly=True\">(Show Printer-friendly Version)</a></span>\n",
       "<p><span class=\"field\">YEAR:</span> 2004</p>\n",
       "<p><span class=\"field\">SEASON:</span> Winter</p><p><span class=\"field\">MONTH:</span> February</p><p><span class=\"field\">STATE:</span> <a href=\"/GDB/state_listing.asp?state=AK\">Alaska</a></p><p><span class=\"field\">COUNTY:</span> <a href=\"/GDB/show_county_reports.asp?state=AK&amp;county=Anchorage\">Anchorage County</a></p><p><span class=\"field\">LOCATION DETAILS:</span> Up near powerline clearings east of Potter Marsh in Anchorage.</p><p><span class=\"field\">NEAREST TOWN:</span> Anchorage / Hillside</p><p><span class=\"field\">NEAREST ROAD:</span> No real roads in the area</p><p><span class=\"field\">OBSERVED:</span> I and two of my friends were bored one night so we decided to do a little snowmachining. Though it was illegal to snowmachine in Anchorage, there were some good trails to ride on a little north of my house.  <br/><br/>We took off at probably 11 pm, rode up the road about a quarter mile, and cut off on the trails. It had snowed about 10 inches a few days before so there was fresh snow, with no tracks.  <br/><br/>I was leading the way for about a half hour, then we stopped and talked for a little bit.  We took off again and kept cruising on some sort of game trail that led to an opening in the woods.  I rode off into the opening with my friends following about fifty yards behind me.  <br/><br/>I came over this little mound and saw strange tracks leading to this spot in the snow where it looked like something had pushed aside some snow and layed down.  I figured it was just a moose or something.  But I followed the tracks over the next small hill and as I came down the far side my headlight pointed right on the back of a bigfoot. <br/><br/> It was only about 10 to 12 feet in front of me.  It was running in the opposite direction.  I slammed on the brakes because I was scared out of my mind.  It continued to run away, jumped over a dead log covered in snow and disappeared into a group of trees and into the darkness.  <br/><br/>I was so surprised and scared I quickly turned around and rode back toward my friends. I met them back by the first mound and said \"We need to get out of here,\"  and rode back towards my house.  When I told them about it back near my house, they laughed and told me it was probably a bear or someone in the woods.  But I was 100% positive that is was not a bear or anything else. <br/><br/>The way it was running through the deep snow made me sure that it wasn't anything human.  For a long time I was made fun of and everyone told me I was crazy so I didn't like talking about it.  </p><p><span class=\"field\">ALSO NOTICED:</span> Some tracks in the snow, and a clearing in the fresh snow where it looked like a large animal had pushed snow aside and layed down.</p><p><span class=\"field\">OTHER WITNESSES:</span> My two friends were snowmachining behind me but did not see it. If it had been light outside they might have seen it, but it was pitch black outside. My only light was from my snowmachine.</p><p><span class=\"field\">OTHER STORIES:</span> I have not heard of any other incidents in Anchorage.</p><p><span class=\"field\">TIME AND CONDITIONS:</span> Middle of the night. The only light was the headlight from my snowmachine.</p><p><span class=\"field\">ENVIRONMENT:</span> In the middle of the woods, in a clearing covered in snow, with only small shrubs and bushes sticking out of the snow.  In the middle of the night.</p>\n",
       "<hr color=\"#009900\" noshade=\"\" size=\"5\"/>\n",
       "<p>Follow-up investigation report by BFRO Investigator Dr. Wolf H. Fahrenbach:</p>\n",
       "<blockquote>\n",
       "<p>The animal was running from the approaching snowmobiles. <br/><br/>It was running smoothly with angled elbows, totally unimpeded by the fresh snow, which was about a foot deep and still falling on top of a deeper base. <br/><br/>It was dark brown in color, with a messy, matted coat and no perceptible neck.<br/><br/>The area of the encounter lies near a clear-cut lane for a pipeline and is within about a mile of the Anchorage Coastal Wildlife Refuge and Potter's Marsh in wooded terrain.<br/></p>\n",
       "</blockquote>\n",
       "<hr color=\"#009900\" noshade=\"\" size=\"5\"/>\n",
       "<p>About BFRO Investigator Dr. Wolf H. Fahrenbach:</p>\n",
       "<blockquote>\n",
       "<p>Hair analysis since 1965.  Field work since 1989. Sasquatch courses given in Oregon and Arizona (3-10 weeks duration); Published in Cryptozoology.</p>\n",
       "</blockquote>\n",
       "<hr color=\"#009900\" noshade=\"\" size=\"5\"/>\n",
       "<ul>\n",
       "<li><a href=\"/gdb/classify.asp\">Explanation of the report classification system</a></li>\n",
       "<li><a href=\"/GDB/submitfm.asp\">Submit a report for the sightings database</a></li>\n",
       "<!--<li><a href=\"/GDB/comments.asp?CommentURL=http%3A%2F%2Fwww%2Ebfro%2Enet%2FGDB%2Fshow%5Freport%2Easp%3Fid%3D13038\">Submit a comment or article</a></li>-->\n",
       "<li>Please send any comments or inquiries to Contact@BFRO.net</li>\n",
       "</ul>\n",
       "</td></tr></table><br/> \n",
       "\n",
       "\t\t\t\t\t<!-- END CONTENT SECTION -->\n",
       "</td>\n",
       "</tr>\n",
       "<tr>\n",
       "<td colspan=\"2\" width=\"131\"><img height=\"1\" src=\"/images/templates/spacer.gif\" width=\"131\"/></td>\n",
       "<td align=\"left\">  <span class=\"smallprint\">Copyright © 2017<!--2017--> BFRO.net</span>\n",
       "<br/> \n",
       "\t\t\t\t<br/><img height=\"1\" src=\"/images/templates/spacer.gif\" wwidth=\"649\"/></td></tr>\n",
       "</table>\n",
       "<script type=\"text/javascript\">runLogo();</script>\n",
       "</body>\n",
       "</html>"
      ]
     },
     "execution_count": 16,
     "metadata": {},
     "output_type": "execute_result"
    }
   ],
   "source": [
    "soup"
   ]
  },
  {
   "cell_type": "code",
   "execution_count": 10,
   "metadata": {},
   "outputs": [],
   "source": [
    "import re\n",
    "\n",
    "def cleanhtml(raw_html):\n",
    "    cleanr = re.compile('<.*?>')\n",
    "    cleantext = re.sub(cleanr, '', raw_html)\n",
    "    return cleantext"
   ]
  },
  {
   "cell_type": "code",
   "execution_count": 12,
   "metadata": {},
   "outputs": [
    {
     "data": {
      "text/plain": [
       "'\\n\\n\\n\\n\\n\\nBFRO Report 13038: Snowmobiler has encounter in deep snow near Potter, AK\\n\\n\\r\\n\\t\\tfunction runLogo() {\\r\\n\\t\\t\\tvar logo = document.getElementById(\"logo\");\\r\\n\\t\\t\\tif(logo != null)\\r\\n\\t\\t\\t{\\r\\n\\t\\t\\t\\tlogo.src=logo.src + \\'a;\\'\\r\\n\\t\\t\\t}\\r\\n\\t\\t}\\r\\n\\t\\t\\r\\n\\t\\t\\n\\n\\n\\n\\n\\n\\r\\n\\t\\t\\t<!--\\r\\n\\t\\t\\t\\tif (document.images) \\r\\n\\t\\t\\t\\t{\\r\\n\\t\\t\\t\\t\\tb_Media_Articles = new Image();\\r\\n\\t\\t\\t\\t\\tb_Media_Articles.src = \"/images/templates/b-Media%20Articles_hl.jpg\";\\r\\n\\t\\t\\t\\t\\tb_Media_Articles_orig = new Image();\\r\\n\\t\\t\\t\\t\\tb_Media_Articles_orig.src = \"/images/templates/b-Media%20Articles.jpg\";\\r\\n\\t\\t\\t\\t\\tb_ReportForm = new Image();\\r\\n\\t\\t\\t\\t\\tb_ReportForm.src = \"/images/templates/b-Report%20Form_hl.jpg\";\\r\\n\\t\\t\\t\\t\\tb_ReportForm_orig = new Image();\\r\\n\\t\\t\\t\\t\\tb_ReportForm_orig.src = \"/images/templates/b-Report%20Form.jpg\";\\r\\n\\t\\t\\t\\t\\tb_Home = new Image();\\r\\n\\t\\t\\t\\t\\tb_Home.src = \"/images/templates/b-Home_hl.jpg\";\\r\\n\\t\\t\\t\\t\\tb_Home_orig = new Image();\\r\\n\\t\\t\\t\\t\\tb_Home_orig.src = \"/images/templates/b-Home.jpg\";\\r\\n\\t\\t\\t\\t}\\r\\n\\r\\n\\t\\t\\t\\tfunction turnOn(imageName) \\r\\n\\t\\t\\t\\t{\\r\\n\\t\\t\\t\\t\\tif (document.images) \\r\\n\\t\\t\\t\\t\\t{\\r\\n\\t\\t\\t\\t\\t\\tdocument[imageName].src = eval(imageName + \".src\");  \\r\\n\\t\\t\\t\\t\\t}\\r\\n\\t\\t\\t\\t}\\r\\n\\r\\n\\t\\t\\t\\tfunction turnOff(imageName) \\r\\n\\t\\t\\t\\t{  \\r\\n\\t\\t\\t\\t\\tif (document.images) \\r\\n\\t\\t\\t\\t\\t{\\r\\n\\t\\t\\t\\t\\t\\t\\tdocument[imageName].src = eval(imageName + \"_orig.src\");  \\r\\n\\t\\t\\t\\t\\t}\\r\\n\\t\\t\\t\\t}\\r\\n\\t\\t\\t\\t-->\\r\\n\\t\\t\\t\\n\\n\\n\\n\\n\\n\\n\\n\\n\\n \\n \\n\\n\\n\\n\\n\\n\\n\\n\\n\\n\\n\\n\\n\\n\\n\\n\\n\\n\\n\\n\\n\\n\\n\\n\\n\\n\\n\\n\\n\\n\\n\\n\\n\\n\\n\\n\\n\\n\\n\\n\\n\\n\\n\\n\\xa0\\n\\n\\n\\n\\n\\n\\n\\n\\r\\n\\r\\n-->\\n\\n\\n\\n\\n\\r\\nfunction googleTranslateElementInit() {\\r\\n  new google.translate.TranslateElement({\\r\\n    pageLanguage: \\'en\\'\\r\\n  }, \\'google_translate_element\\');\\r\\n}\\r\\n\\n\\n\\n\\n\\n\\n\\n\\n\\n\\n\\nvar addthis_config = {\"data_track_clickback\":true};\\n\\n\\n\\n\\n\\n\\n\\n\\n\\n\\n\\n\\nGeographical Index &gt; United States &gt; Alaska &gt; Anchorage County &gt; Report # 13038\\xa0\\nReport # 13038\\xa0\\xa0(Class A)\\n\\nSubmitted  by  witness   on Saturday,\\xa0November\\xa012,\\xa02005.\\n\\nSnowmobiler has encounter in deep snow near Potter, AK\\n\\n(Show Printer-friendly Version)\\nYEAR: 2004\\nSEASON: WinterMONTH: FebruarySTATE: AlaskaCOUNTY: Anchorage CountyLOCATION DETAILS: Up near powerline clearings east of Potter Marsh in Anchorage.NEAREST TOWN: Anchorage / HillsideNEAREST ROAD: No real roads in the areaOBSERVED: I and two of my friends were bored one night so we decided to do a little snowmachining. Though it was illegal to snowmachine in Anchorage, there were some good trails to ride on a little north of my house.  We took off at probably 11 pm, rode up the road about a quarter mile, and cut off on the trails. It had snowed about 10 inches a few days before so there was fresh snow, with no tracks.  I was leading the way for about a half hour, then we stopped and talked for a little bit.  We took off again and kept cruising on some sort of game trail that led to an opening in the woods.  I rode off into the opening with my friends following about fifty yards behind me.  I came over this little mound and saw strange tracks leading to this spot in the snow where it looked like something had pushed aside some snow and layed down.  I figured it was just a moose or something.  But I followed the tracks over the next small hill and as I came down the far side my headlight pointed right on the back of a bigfoot.  It was only about 10 to 12 feet in front of me.  It was running in the opposite direction.  I slammed on the brakes because I was scared out of my mind.  It continued to run away, jumped over a dead log covered in snow and disappeared into a group of trees and into the darkness.  I was so surprised and scared I quickly turned around and rode back toward my friends. I met them back by the first mound and said \"We need to get out of here,\"  and rode back towards my house.  When I told them about it back near my house, they laughed and told me it was probably a bear or someone in the woods.  But I was 100% positive that is was not a bear or anything else. The way it was running through the deep snow made me sure that it wasn\\'t anything human.  For a long time I was made fun of and everyone told me I was crazy so I didn\\'t like talking about it.  ALSO NOTICED: Some tracks in the snow, and a clearing in the fresh snow where it looked like a large animal had pushed snow aside and layed down.OTHER WITNESSES: My two friends were snowmachining behind me but did not see it. If it had been light outside they might have seen it, but it was pitch black outside. My only light was from my snowmachine.OTHER STORIES: I have not heard of any other incidents in Anchorage.TIME AND CONDITIONS: Middle of the night. The only light was the headlight from my snowmachine.ENVIRONMENT: In the middle of the woods, in a clearing covered in snow, with only small shrubs and bushes sticking out of the snow.  In the middle of the night.\\n\\nFollow-up investigation report by BFRO Investigator Dr. Wolf H. Fahrenbach:\\n\\nThe animal was running from the approaching snowmobiles. It was running smoothly with angled elbows, totally unimpeded by the fresh snow, which was about a foot deep and still falling on top of a deeper base. It was dark brown in color, with a messy, matted coat and no perceptible neck.The area of the encounter lies near a clear-cut lane for a pipeline and is within about a mile of the Anchorage Coastal Wildlife Refuge and Potter\\'s Marsh in wooded terrain.\\n\\n\\nAbout BFRO Investigator Dr. Wolf H. Fahrenbach:\\n\\nHair analysis since 1965.  Field work since 1989. Sasquatch courses given in Oregon and Arizona (3-10 weeks duration); Published in Cryptozoology.\\n\\n\\n\\nExplanation of the report classification system\\nSubmit a report for the sightings database\\nSubmit a comment or article-->\\nPlease send any comments or inquiries to Contact@BFRO.net\\n\\n\\xa0\\r\\n\\r\\n\\t\\t\\t\\t\\t\\n\\n\\n\\n\\n\\xa0\\xa0Copyright © 2017 BFRO.net\\n\\xa0\\r\\n\\t\\t\\t\\t\\n\\nrunLogo();\\n\\n\\n'"
      ]
     },
     "execution_count": 12,
     "metadata": {},
     "output_type": "execute_result"
    }
   ],
   "source": [
    "cleanhtml(str(soup))"
   ]
  },
  {
   "cell_type": "code",
   "execution_count": 17,
   "metadata": {},
   "outputs": [],
   "source": [
    "text = soup.get_text()\n"
   ]
  },
  {
   "cell_type": "code",
   "execution_count": 18,
   "metadata": {},
   "outputs": [
    {
     "data": {
      "text/plain": [
       "'\\n\\n\\n\\n\\n\\n\\nBFRO Report 13038: Snowmobiler has encounter in deep snow near Potter, AK\\n\\n\\r\\n\\t\\tfunction runLogo() {\\r\\n\\t\\t\\tvar logo = document.getElementById(\"logo\");\\r\\n\\t\\t\\tif(logo != null)\\r\\n\\t\\t\\t{\\r\\n\\t\\t\\t\\tlogo.src=logo.src + \\'a;\\'\\r\\n\\t\\t\\t}\\r\\n\\t\\t}\\r\\n\\t\\t\\r\\n\\t\\t\\n\\n\\n\\n\\n\\n\\r\\n\\t\\t\\t<!--\\r\\n\\t\\t\\t\\tif (document.images) \\r\\n\\t\\t\\t\\t{\\r\\n\\t\\t\\t\\t\\tb_Media_Articles = new Image();\\r\\n\\t\\t\\t\\t\\tb_Media_Articles.src = \"/images/templates/b-Media%20Articles_hl.jpg\";\\r\\n\\t\\t\\t\\t\\tb_Media_Articles_orig = new Image();\\r\\n\\t\\t\\t\\t\\tb_Media_Articles_orig.src = \"/images/templates/b-Media%20Articles.jpg\";\\r\\n\\t\\t\\t\\t\\tb_ReportForm = new Image();\\r\\n\\t\\t\\t\\t\\tb_ReportForm.src = \"/images/templates/b-Report%20Form_hl.jpg\";\\r\\n\\t\\t\\t\\t\\tb_ReportForm_orig = new Image();\\r\\n\\t\\t\\t\\t\\tb_ReportForm_orig.src = \"/images/templates/b-Report%20Form.jpg\";\\r\\n\\t\\t\\t\\t\\tb_Home = new Image();\\r\\n\\t\\t\\t\\t\\tb_Home.src = \"/images/templates/b-Home_hl.jpg\";\\r\\n\\t\\t\\t\\t\\tb_Home_orig = new Image();\\r\\n\\t\\t\\t\\t\\tb_Home_orig.src = \"/images/templates/b-Home.jpg\";\\r\\n\\t\\t\\t\\t}\\r\\n\\r\\n\\t\\t\\t\\tfunction turnOn(imageName) \\r\\n\\t\\t\\t\\t{\\r\\n\\t\\t\\t\\t\\tif (document.images) \\r\\n\\t\\t\\t\\t\\t{\\r\\n\\t\\t\\t\\t\\t\\tdocument[imageName].src = eval(imageName + \".src\");  \\r\\n\\t\\t\\t\\t\\t}\\r\\n\\t\\t\\t\\t}\\r\\n\\r\\n\\t\\t\\t\\tfunction turnOff(imageName) \\r\\n\\t\\t\\t\\t{  \\r\\n\\t\\t\\t\\t\\tif (document.images) \\r\\n\\t\\t\\t\\t\\t{\\r\\n\\t\\t\\t\\t\\t\\t\\tdocument[imageName].src = eval(imageName + \"_orig.src\");  \\r\\n\\t\\t\\t\\t\\t}\\r\\n\\t\\t\\t\\t}\\r\\n\\t\\t\\t\\t-->\\r\\n\\t\\t\\t\\n\\n\\n\\n\\n\\n\\n\\n\\n\\n \\n \\n\\n\\n\\n\\n\\n\\n\\n\\n\\n\\n\\n\\n\\n\\n\\n\\n\\n\\n\\n\\n\\n\\n\\n\\n\\n\\n\\n\\n\\n\\n\\n\\n\\n\\n\\n\\n\\n\\n\\n\\n\\n\\n\\n\\xa0\\n\\n\\n\\n\\n\\n\\n\\n\\n\\n\\n\\n\\n\\r\\nfunction googleTranslateElementInit() {\\r\\n  new google.translate.TranslateElement({\\r\\n    pageLanguage: \\'en\\'\\r\\n  }, \\'google_translate_element\\');\\r\\n}\\r\\n\\n\\n\\n\\n\\n\\n\\n\\n\\n\\n\\nvar addthis_config = {\"data_track_clickback\":true};\\n\\n\\n\\n\\n\\n\\n\\n\\n\\n\\n\\n\\nGeographical Index > United States > Alaska > Anchorage County > Report # 13038\\xa0\\nReport # 13038\\xa0\\xa0(Class A)\\n\\nSubmitted  by  witness   on Saturday,\\xa0November\\xa012,\\xa02005.\\n\\nSnowmobiler has encounter in deep snow near Potter, AK\\n\\n(Show Printer-friendly Version)\\nYEAR: 2004\\nSEASON: WinterMONTH: FebruarySTATE: AlaskaCOUNTY: Anchorage CountyLOCATION DETAILS: Up near powerline clearings east of Potter Marsh in Anchorage.NEAREST TOWN: Anchorage / HillsideNEAREST ROAD: No real roads in the areaOBSERVED: I and two of my friends were bored one night so we decided to do a little snowmachining. Though it was illegal to snowmachine in Anchorage, there were some good trails to ride on a little north of my house.  We took off at probably 11 pm, rode up the road about a quarter mile, and cut off on the trails. It had snowed about 10 inches a few days before so there was fresh snow, with no tracks.  I was leading the way for about a half hour, then we stopped and talked for a little bit.  We took off again and kept cruising on some sort of game trail that led to an opening in the woods.  I rode off into the opening with my friends following about fifty yards behind me.  I came over this little mound and saw strange tracks leading to this spot in the snow where it looked like something had pushed aside some snow and layed down.  I figured it was just a moose or something.  But I followed the tracks over the next small hill and as I came down the far side my headlight pointed right on the back of a bigfoot.  It was only about 10 to 12 feet in front of me.  It was running in the opposite direction.  I slammed on the brakes because I was scared out of my mind.  It continued to run away, jumped over a dead log covered in snow and disappeared into a group of trees and into the darkness.  I was so surprised and scared I quickly turned around and rode back toward my friends. I met them back by the first mound and said \"We need to get out of here,\"  and rode back towards my house.  When I told them about it back near my house, they laughed and told me it was probably a bear or someone in the woods.  But I was 100% positive that is was not a bear or anything else. The way it was running through the deep snow made me sure that it wasn\\'t anything human.  For a long time I was made fun of and everyone told me I was crazy so I didn\\'t like talking about it.  ALSO NOTICED: Some tracks in the snow, and a clearing in the fresh snow where it looked like a large animal had pushed snow aside and layed down.OTHER WITNESSES: My two friends were snowmachining behind me but did not see it. If it had been light outside they might have seen it, but it was pitch black outside. My only light was from my snowmachine.OTHER STORIES: I have not heard of any other incidents in Anchorage.TIME AND CONDITIONS: Middle of the night. The only light was the headlight from my snowmachine.ENVIRONMENT: In the middle of the woods, in a clearing covered in snow, with only small shrubs and bushes sticking out of the snow.  In the middle of the night.\\n\\nFollow-up investigation report by BFRO Investigator Dr. Wolf H. Fahrenbach:\\n\\nThe animal was running from the approaching snowmobiles. It was running smoothly with angled elbows, totally unimpeded by the fresh snow, which was about a foot deep and still falling on top of a deeper base. It was dark brown in color, with a messy, matted coat and no perceptible neck.The area of the encounter lies near a clear-cut lane for a pipeline and is within about a mile of the Anchorage Coastal Wildlife Refuge and Potter\\'s Marsh in wooded terrain.\\n\\n\\nAbout BFRO Investigator Dr. Wolf H. Fahrenbach:\\n\\nHair analysis since 1965.  Field work since 1989. Sasquatch courses given in Oregon and Arizona (3-10 weeks duration); Published in Cryptozoology.\\n\\n\\n\\nExplanation of the report classification system\\nSubmit a report for the sightings database\\n\\nPlease send any comments or inquiries to Contact@BFRO.net\\n\\n\\xa0\\r\\n\\r\\n\\t\\t\\t\\t\\t\\n\\n\\n\\n\\n\\xa0\\xa0Copyright © 2017 BFRO.net\\n\\xa0\\r\\n\\t\\t\\t\\t\\n\\nrunLogo();\\n\\n\\n'"
      ]
     },
     "execution_count": 18,
     "metadata": {},
     "output_type": "execute_result"
    }
   ],
   "source": [
    "text"
   ]
  },
  {
   "cell_type": "code",
   "execution_count": 19,
   "metadata": {},
   "outputs": [
    {
     "ename": "KeyError",
     "evalue": "'text'",
     "output_type": "error",
     "traceback": [
      "\u001b[0;31m---------------------------------------------------------------------------\u001b[0m",
      "\u001b[0;31mKeyError\u001b[0m                                  Traceback (most recent call last)",
      "\u001b[0;32m<ipython-input-19-8200e6ef2a39>\u001b[0m in \u001b[0;36m<module>\u001b[0;34m\u001b[0m\n\u001b[1;32m      2\u001b[0m \u001b[0;34m\u001b[0m\u001b[0m\n\u001b[1;32m      3\u001b[0m         \u001b[0;31m# Extract the HTML from the document\u001b[0m\u001b[0;34m\u001b[0m\u001b[0;34m\u001b[0m\u001b[0;34m\u001b[0m\u001b[0m\n\u001b[0;32m----> 4\u001b[0;31m         \u001b[0mhtml\u001b[0m \u001b[0;34m=\u001b[0m \u001b[0mdoc\u001b[0m\u001b[0;34m[\u001b[0m\u001b[0;34m'text'\u001b[0m\u001b[0;34m]\u001b[0m\u001b[0;34m[\u001b[0m\u001b[0;34m'*'\u001b[0m\u001b[0;34m]\u001b[0m\u001b[0;34m\u001b[0m\u001b[0;34m\u001b[0m\u001b[0m\n\u001b[0m\u001b[1;32m      5\u001b[0m \u001b[0;34m\u001b[0m\u001b[0m\n\u001b[1;32m      6\u001b[0m         \u001b[0;31m# Stringify the ID for serialization to our text file\u001b[0m\u001b[0;34m\u001b[0m\u001b[0;34m\u001b[0m\u001b[0;34m\u001b[0m\u001b[0m\n",
      "\u001b[0;31mKeyError\u001b[0m: 'text'"
     ]
    }
   ],
   "source": [
    "for doc in reports:\n",
    "        \n",
    "        # Extract the HTML from the document\n",
    "        html = doc['text']['*']\n",
    "\n",
    "        # Stringify the ID for serialization to our text file\n",
    "        doc['_id'] = str(doc['_id'])\n",
    "\n",
    "        # Create a Beautiful Soup object from the HTML\n",
    "        soup = BeautifulSoup(html)\n",
    "\n",
    "        # Extract all the relevant text of the web page: strips out tags and head/meta content\n",
    "        text = soup.get_text()\n",
    "\n",
    "    \n",
    "        try:\n",
    "            print(\"Writing Report: {}\".format(doc['title']))\n",
    "            json.dump(doc, out) \n",
    "            out.write('\\n')\n",
    "        except UnicodeEncodeError as e:\n",
    "            print(e)"
   ]
  },
  {
   "cell_type": "code",
   "execution_count": null,
   "metadata": {},
   "outputs": [],
   "source": [
    "div = soup.find(\"div\", {\"class\": \"scoreTable\"})"
   ]
  },
  {
   "cell_type": "code",
   "execution_count": 20,
   "metadata": {},
   "outputs": [
    {
     "data": {
      "text/plain": [
       "<title>BFRO Report 13038: Snowmobiler has encounter in deep snow near Potter, AK</title>"
      ]
     },
     "execution_count": 20,
     "metadata": {},
     "output_type": "execute_result"
    }
   ],
   "source": [
    "soup.find('title')"
   ]
  },
  {
   "cell_type": "code",
   "execution_count": 73,
   "metadata": {},
   "outputs": [
    {
     "data": {
      "text/plain": [
       "['Saturday']"
      ]
     },
     "execution_count": 73,
     "metadata": {},
     "output_type": "execute_result"
    }
   ],
   "source": [
    "soup.find_all('span', {'class': 'field'})[:2][0].text.split(',')[0].split()[-1:]\n"
   ]
  },
  {
   "cell_type": "code",
   "execution_count": 88,
   "metadata": {},
   "outputs": [],
   "source": [
    "date = soup.find_all('span', {'class': 'field'})[:2][0].text.split(',')[1::1]\n"
   ]
  },
  {
   "cell_type": "code",
   "execution_count": 94,
   "metadata": {},
   "outputs": [],
   "source": [
    "def cleanhtml(raw_html):\n",
    "    cleanr = re.compile('\\xa0')\n",
    "    cleantext = re.sub(cleanr, ' ', raw_html)\n",
    "    return cleantext"
   ]
  },
  {
   "cell_type": "code",
   "execution_count": 109,
   "metadata": {},
   "outputs": [],
   "source": [
    "dates = cleanhtml(date[0]) + cleanhtml(date[1]).strip('.')"
   ]
  },
  {
   "cell_type": "code",
   "execution_count": 112,
   "metadata": {},
   "outputs": [
    {
     "data": {
      "text/plain": [
       "'November 12 2005'"
      ]
     },
     "execution_count": 112,
     "metadata": {},
     "output_type": "execute_result"
    }
   ],
   "source": [
    "' '.join(dates.split())"
   ]
  },
  {
   "cell_type": "code",
   "execution_count": 41,
   "metadata": {},
   "outputs": [
    {
     "data": {
      "text/plain": [
       "[<p><span class=\"field\">YEAR:</span> 2004</p>,\n",
       " <p><span class=\"field\">SEASON:</span> Winter</p>,\n",
       " <p><span class=\"field\">MONTH:</span> February</p>,\n",
       " <p><span class=\"field\">STATE:</span> <a href=\"/GDB/state_listing.asp?state=AK\">Alaska</a></p>,\n",
       " <p><span class=\"field\">COUNTY:</span> <a href=\"/GDB/show_county_reports.asp?state=AK&amp;county=Anchorage\">Anchorage County</a></p>,\n",
       " <p><span class=\"field\">LOCATION DETAILS:</span> Up near powerline clearings east of Potter Marsh in Anchorage.</p>,\n",
       " <p><span class=\"field\">NEAREST TOWN:</span> Anchorage / Hillside</p>,\n",
       " <p><span class=\"field\">NEAREST ROAD:</span> No real roads in the area</p>,\n",
       " <p><span class=\"field\">OBSERVED:</span> I and two of my friends were bored one night so we decided to do a little snowmachining. Though it was illegal to snowmachine in Anchorage, there were some good trails to ride on a little north of my house.  <br/><br/>We took off at probably 11 pm, rode up the road about a quarter mile, and cut off on the trails. It had snowed about 10 inches a few days before so there was fresh snow, with no tracks.  <br/><br/>I was leading the way for about a half hour, then we stopped and talked for a little bit.  We took off again and kept cruising on some sort of game trail that led to an opening in the woods.  I rode off into the opening with my friends following about fifty yards behind me.  <br/><br/>I came over this little mound and saw strange tracks leading to this spot in the snow where it looked like something had pushed aside some snow and layed down.  I figured it was just a moose or something.  But I followed the tracks over the next small hill and as I came down the far side my headlight pointed right on the back of a bigfoot. <br/><br/> It was only about 10 to 12 feet in front of me.  It was running in the opposite direction.  I slammed on the brakes because I was scared out of my mind.  It continued to run away, jumped over a dead log covered in snow and disappeared into a group of trees and into the darkness.  <br/><br/>I was so surprised and scared I quickly turned around and rode back toward my friends. I met them back by the first mound and said \"We need to get out of here,\"  and rode back towards my house.  When I told them about it back near my house, they laughed and told me it was probably a bear or someone in the woods.  But I was 100% positive that is was not a bear or anything else. <br/><br/>The way it was running through the deep snow made me sure that it wasn't anything human.  For a long time I was made fun of and everyone told me I was crazy so I didn't like talking about it.  </p>,\n",
       " <p><span class=\"field\">ALSO NOTICED:</span> Some tracks in the snow, and a clearing in the fresh snow where it looked like a large animal had pushed snow aside and layed down.</p>,\n",
       " <p><span class=\"field\">OTHER WITNESSES:</span> My two friends were snowmachining behind me but did not see it. If it had been light outside they might have seen it, but it was pitch black outside. My only light was from my snowmachine.</p>,\n",
       " <p><span class=\"field\">OTHER STORIES:</span> I have not heard of any other incidents in Anchorage.</p>,\n",
       " <p><span class=\"field\">TIME AND CONDITIONS:</span> Middle of the night. The only light was the headlight from my snowmachine.</p>,\n",
       " <p><span class=\"field\">ENVIRONMENT:</span> In the middle of the woods, in a clearing covered in snow, with only small shrubs and bushes sticking out of the snow.  In the middle of the night.</p>,\n",
       " <p>Follow-up investigation report by BFRO Investigator Dr. Wolf H. Fahrenbach:</p>,\n",
       " <p>The animal was running from the approaching snowmobiles. <br/><br/>It was running smoothly with angled elbows, totally unimpeded by the fresh snow, which was about a foot deep and still falling on top of a deeper base. <br/><br/>It was dark brown in color, with a messy, matted coat and no perceptible neck.<br/><br/>The area of the encounter lies near a clear-cut lane for a pipeline and is within about a mile of the Anchorage Coastal Wildlife Refuge and Potter's Marsh in wooded terrain.<br/></p>,\n",
       " <p>About BFRO Investigator Dr. Wolf H. Fahrenbach:</p>,\n",
       " <p>Hair analysis since 1965.  Field work since 1989. Sasquatch courses given in Oregon and Arizona (3-10 weeks duration); Published in Cryptozoology.</p>]"
      ]
     },
     "execution_count": 41,
     "metadata": {},
     "output_type": "execute_result"
    }
   ],
   "source": [
    "soup.find_all('p')"
   ]
  },
  {
   "cell_type": "code",
   "execution_count": null,
   "metadata": {},
   "outputs": [],
   "source": []
  }
 ],
 "metadata": {
  "kernelspec": {
   "display_name": "Python 3",
   "language": "python",
   "name": "python3"
  },
  "language_info": {
   "codemirror_mode": {
    "name": "ipython",
    "version": 3
   },
   "file_extension": ".py",
   "mimetype": "text/x-python",
   "name": "python",
   "nbconvert_exporter": "python",
   "pygments_lexer": "ipython3",
   "version": "3.7.3"
  }
 },
 "nbformat": 4,
 "nbformat_minor": 4
}
