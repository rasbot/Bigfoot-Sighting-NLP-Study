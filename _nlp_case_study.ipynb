{
 "cells": [
  {
   "cell_type": "markdown",
   "metadata": {},
   "source": [
    "# NLP Unsupervised Learning Case Study\n",
    "\n",
    "In this case study you'll work in a situation more like that you'll find in your personal projects, while interviewing, and in industry. What is meant by that? This data is usually unstructured/dirty and the problem ill/undefined."
   ]
  },
  {
   "cell_type": "markdown",
   "metadata": {},
   "source": [
    "## The Data\n",
    "\n",
    "There are two data sets you can choose to work from, one about UFO sightings and the other about Bigfoot sightings.  They are both large files, though there are subsets (the first 100 records) of both datasets in the `data` folder."
   ]
  },
  {
   "cell_type": "markdown",
   "metadata": {},
   "source": [
    "### UFO Sightings\n",
    "\n",
    "A data set of UFO sighting reports was collected from [The National UFO Reporting Center Online Database](http://www.nuforc.org/webreports.html); you can see an example report [here](http://www.nuforc.org/webreports/133/S133931.html). The data, downloadable as a zipped `json` file [here](https://s3.amazonaws.com/ufodatafordarren/ufodata.json.zip), contains the URL, raw HTML for that URL, and the time it was scraped for each report in the database along with the remnants of a database id."
   ]
  },
  {
   "cell_type": "markdown",
   "metadata": {},
   "source": [
    "### Bigfoot Sightings\n",
    "\n",
    "A data set of bigfoot sighting reports was collected from the [Geographic Database of Bigfoot / Sasquatch Sightings & Reports](http://www.bfro.net/gdb/); you can see an example report [here](http://www.bfro.net/GDB/show_report.asp?id=13038). The data, downloadable as a zipped `json` file [here](https://s3.amazonaws.com/ufodatafordarren/bigfoot_data.json.zip), contains the URL, raw HTML for that URL, and the time it was scraped for each report in the database along with the remnants of a database id."
   ]
  },
  {
   "cell_type": "code",
   "execution_count": 1,
   "metadata": {},
   "outputs": [],
   "source": [
    "import pandas as pd\n",
    "import numpy as np\n",
    "import json # to work with json file format\n",
    "from bs4 import BeautifulSoup # to parse html"
   ]
  },
  {
   "cell_type": "code",
   "execution_count": 7,
   "metadata": {},
   "outputs": [],
   "source": [
    "records = []\n",
    "with open('data/bigfoot_data.json') as f:\n",
    "    for i in f:\n",
    "        records.append(json.loads(i))"
   ]
  },
  {
   "cell_type": "code",
   "execution_count": 8,
   "metadata": {},
   "outputs": [
    {
     "data": {
      "text/plain": [
       "4857"
      ]
     },
     "execution_count": 8,
     "metadata": {},
     "output_type": "execute_result"
    }
   ],
   "source": [
    "len(records)"
   ]
  },
  {
   "cell_type": "code",
   "execution_count": null,
   "metadata": {},
   "outputs": [],
   "source": []
  },
  {
   "cell_type": "code",
   "execution_count": null,
   "metadata": {},
   "outputs": [],
   "source": []
  },
  {
   "cell_type": "code",
   "execution_count": null,
   "metadata": {},
   "outputs": [],
   "source": []
  },
  {
   "cell_type": "markdown",
   "metadata": {},
   "source": [
    "## The Problem\n",
    "\n",
    "Find something interesting in the data! That's not very specific, so here are some thoughts to get you going:\n",
    "* What state has the most UFO/bigfoot sightings? Can you visualize this/compare them?\n",
    "* What kind of language is used to describe UFO vs. bigfoot sightings. Does it vary by region or time?\n",
    "\n",
    "A huge part of the challenge for this case study will be getting the data into a usable form, so don't fret about finding something mind-blowingly insightful in the data. Simply verifying a suspicion you have with a model or summarizing a quality about the data that is difficult to see in the raw data is good data science."
   ]
  },
  {
   "cell_type": "markdown",
   "metadata": {},
   "source": [
    "## Presentation  \n",
    "Place your results in the README file.  Please consider presenting  \n",
    "* What the raw data was like\n",
    "* EDA (most/least frequent words, typical post length, dates of posts, etc.)\n",
    "* Details of your text processing pipeline (cleaning, stop words, lemmatization, etc.)  \n",
    "* How/why you chose certain ML algorithms for analysis  \n",
    "* How you tuned and evaluated your model  \n",
    "* Results"
   ]
  },
  {
   "cell_type": "markdown",
   "metadata": {},
   "source": [
    "## Resources\n",
    "\n",
    "Turns out the person who scraped the data left the beginnings of a Python script to load the data with, but even they left a note that it's not very helpful.  See the `example_reading_and_parsing_data.ipynb` for a more extended example.\n",
    "\n",
    "```python\n",
    "import json\n",
    "\n",
    "# TODO: this doesn't scale well and doesn't help with looking at the data.\n",
    "#       Possible solutions: load into pandas dataframe or mongodb, maybe both.\n",
    "reports = []\n",
    "with open('bigfoot_data.json') as f:\n",
    "    for i in f:\n",
    "        reports.append(json.loads(i))\n",
    "```"
   ]
  }
 ],
 "metadata": {
  "kernelspec": {
   "display_name": "Python 3",
   "language": "python",
   "name": "python3"
  },
  "language_info": {
   "codemirror_mode": {
    "name": "ipython",
    "version": 3
   },
   "file_extension": ".py",
   "mimetype": "text/x-python",
   "name": "python",
   "nbconvert_exporter": "python",
   "pygments_lexer": "ipython3",
   "version": "3.7.6"
  }
 },
 "nbformat": 4,
 "nbformat_minor": 4
}
