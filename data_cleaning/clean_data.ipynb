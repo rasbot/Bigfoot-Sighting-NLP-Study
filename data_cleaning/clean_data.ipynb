{
 "cells": [
  {
   "cell_type": "code",
   "execution_count": 9,
   "metadata": {},
   "outputs": [
    {
     "name": "stdout",
     "output_type": "stream",
     "text": [
      "The autoreload extension is already loaded. To reload it, use:\n",
      "  %reload_ext autoreload\n"
     ]
    }
   ],
   "source": [
    "import pandas as pd\n",
    "import json\n",
    "from data_cleaning import get_data\n",
    "%load_ext autoreload\n",
    "%autoreload 2"
   ]
  },
  {
   "cell_type": "code",
   "execution_count": 43,
   "metadata": {},
   "outputs": [
    {
     "name": "stdout",
     "output_type": "stream",
     "text": [
      "error in report\n",
      "error in report\n",
      "error in report\n",
      "error in report\n",
      "error in report\n",
      "error in report\n",
      "error in report\n",
      "error in report\n",
      "error in report\n",
      "error in report\n",
      "error in report\n",
      "error in report\n",
      "error in report\n",
      "error in report\n",
      "error in report\n",
      "error in report\n",
      "error in report\n",
      "error in report\n",
      "error in report\n",
      "error in report\n",
      "error in report\n",
      "error in report\n",
      "error in report\n",
      "error in report\n",
      "error in report\n",
      "error in report\n",
      "error in report\n",
      "error in report\n",
      "error in report\n",
      "error in report\n",
      "error in report\n",
      "error in report\n",
      "error in report\n",
      "error in report\n",
      "error in report\n",
      "error in report\n",
      "error in report\n",
      "error in report\n",
      "error in report\n",
      "error in report\n",
      "error in report\n",
      "error in report\n",
      "error in report\n",
      "error in report\n",
      "error in report\n",
      "error in report\n",
      "error in report\n",
      "error in report\n",
      "error in report\n",
      "error in report\n"
     ]
    }
   ],
   "source": [
    "reports_df = get_data('../data/bigfoot_data.json')"
   ]
  },
  {
   "cell_type": "code",
   "execution_count": 44,
   "metadata": {},
   "outputs": [
    {
     "name": "stdout",
     "output_type": "stream",
     "text": [
      "<class 'pandas.core.frame.DataFrame'>\n",
      "RangeIndex: 4807 entries, 0 to 4806\n",
      "Data columns (total 18 columns):\n",
      " #   Column               Non-Null Count  Dtype \n",
      "---  ------               --------------  ----- \n",
      " 0   id                   4807 non-null   object\n",
      " 1   YEAR                 4799 non-null   object\n",
      " 2   SEASON               4799 non-null   object\n",
      " 3   MONTH                4181 non-null   object\n",
      " 4   STATE                4540 non-null   object\n",
      " 5   COUNTY               4540 non-null   object\n",
      " 6   LOCATION DETAILS     4047 non-null   object\n",
      " 7   NEAREST TOWN         4440 non-null   object\n",
      " 8   NEAREST ROAD         4086 non-null   object\n",
      " 9   OBSERVED             4767 non-null   object\n",
      " 10  ALSO NOTICED         3185 non-null   object\n",
      " 11  OTHER WITNESSES      4325 non-null   object\n",
      " 12  OTHER STORIES        3383 non-null   object\n",
      " 13  TIME AND CONDITIONS  4292 non-null   object\n",
      " 14  ENVIRONMENT          4517 non-null   object\n",
      " 15  submitted_date       4807 non-null   object\n",
      " 16  DATE                 3222 non-null   object\n",
      " 17  text                 4807 non-null   object\n",
      "dtypes: object(18)\n",
      "memory usage: 676.1+ KB\n"
     ]
    }
   ],
   "source": [
    "reports_df.info()"
   ]
  },
  {
   "cell_type": "code",
   "execution_count": 45,
   "metadata": {},
   "outputs": [
    {
     "data": {
      "text/plain": [
       "RangeIndex(start=0, stop=4807, step=1)"
      ]
     },
     "execution_count": 45,
     "metadata": {},
     "output_type": "execute_result"
    }
   ],
   "source": [
    "reports_df.index"
   ]
  },
  {
   "cell_type": "code",
   "execution_count": 46,
   "metadata": {},
   "outputs": [
    {
     "data": {
      "text/plain": [
       "' I and two of my friends were bored one night so we decided to do a little snowmachining. Though it was illegal to snowmachine in Anchorage, there were some good trails to ride on a little north of my house.  We took off at probably 11 pm, rode up the road about a quarter mile, and cut off on the trails. It had snowed about 10 inches a few days before so there was fresh snow, with no tracks.  I was leading the way for about a half hour, then we stopped and talked for a little bit.  We took off again and kept cruising on some sort of game trail that led to an opening in the woods.  I rode off into the opening with my friends following about fifty yards behind me.  I came over this little mound and saw strange tracks leading to this spot in the snow where it looked like something had pushed aside some snow and layed down.  I figured it was just a moose or something.  But I followed the tracks over the next small hill and as I came down the far side my headlight pointed right on the back of a bigfoot.  It was only about 10 to 12 feet in front of me.  It was running in the opposite direction.  I slammed on the brakes because I was scared out of my mind.  It continued to run away, jumped over a dead log covered in snow and disappeared into a group of trees and into the darkness.  I was so surprised and scared I quickly turned around and rode back toward my friends. I met them back by the first mound and said \"We need to get out of here,\"  and rode back towards my house.  When I told them about it back near my house, they laughed and told me it was probably a bear or someone in the woods.  But I was 100% positive that is was not a bear or anything else. The way it was running through the deep snow made me sure that it wasn\\'t anything human.  For a long time I was made fun of and everyone told me I was crazy so I didn\\'t like talking about it.   I have not heard of any other incidents in Anchorage. My two friends were snowmachining behind me but did not see it. If it had been light outside they might have seen it, but it was pitch black outside. My only light was from my snowmachine. Middle of the night. The only light was the headlight from my snowmachine. Some tracks in the snow, and a clearing in the fresh snow where it looked like a large animal had pushed snow aside and layed down. Up near powerline clearings east of Potter Marsh in Anchorage. In the middle of the woods, in a clearing covered in snow, with only small shrubs and bushes sticking out of the snow.  In the middle of the night.'"
      ]
     },
     "execution_count": 46,
     "metadata": {},
     "output_type": "execute_result"
    }
   ],
   "source": [
    "reports_df['text'][0]"
   ]
  },
  {
   "cell_type": "code",
   "execution_count": null,
   "metadata": {},
   "outputs": [],
   "source": []
  }
 ],
 "metadata": {
  "kernelspec": {
   "display_name": "Python (gal)",
   "language": "python",
   "name": "gal"
  },
  "language_info": {
   "codemirror_mode": {
    "name": "ipython",
    "version": 3
   },
   "file_extension": ".py",
   "mimetype": "text/x-python",
   "name": "python",
   "nbconvert_exporter": "python",
   "pygments_lexer": "ipython3",
   "version": "3.8.0"
  }
 },
 "nbformat": 4,
 "nbformat_minor": 4
}
