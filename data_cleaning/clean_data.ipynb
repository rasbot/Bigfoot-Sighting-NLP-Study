{
 "cells": [
  {
   "cell_type": "code",
   "execution_count": 4,
   "metadata": {},
   "outputs": [
    {
     "name": "stdout",
     "output_type": "stream",
     "text": [
      "The autoreload extension is already loaded. To reload it, use:\n",
      "  %reload_ext autoreload\n"
     ]
    }
   ],
   "source": [
    "import pandas as pd\n",
    "import json\n",
    "from data_cleaning import get_data\n",
    "%load_ext autoreload\n",
    "%autoreload 2"
   ]
  },
  {
   "cell_type": "code",
   "execution_count": 6,
   "metadata": {},
   "outputs": [
    {
     "name": "stderr",
     "output_type": "stream",
     "text": [
      "//anaconda3/lib/python3.7/site-packages/pandas/core/frame.py:6692: FutureWarning: Sorting because non-concatenation axis is not aligned. A future version\n",
      "of pandas will change to not sort by default.\n",
      "\n",
      "To accept the future behavior, pass 'sort=False'.\n",
      "\n",
      "To retain the current behavior and silence the warning, pass 'sort=True'.\n",
      "\n",
      "  sort=sort)\n"
     ]
    },
    {
     "name": "stdout",
     "output_type": "stream",
     "text": [
      "error in report\n",
      "error in report\n",
      "error in report\n",
      "error in report\n",
      "error in report\n",
      "error in report\n",
      "error in report\n",
      "error in report\n",
      "error in report\n",
      "error in report\n",
      "error in report\n",
      "error in report\n",
      "error in report\n",
      "error in report\n",
      "error in report\n",
      "error in report\n",
      "error in report\n",
      "error in report\n",
      "error in report\n",
      "error in report\n",
      "error in report\n",
      "error in report\n",
      "error in report\n",
      "error in report\n",
      "error in report\n",
      "error in report\n",
      "error in report\n",
      "error in report\n",
      "error in report\n",
      "error in report\n",
      "error in report\n",
      "error in report\n",
      "error in report\n",
      "error in report\n",
      "error in report\n",
      "error in report\n",
      "error in report\n",
      "error in report\n",
      "error in report\n",
      "error in report\n",
      "error in report\n",
      "error in report\n",
      "error in report\n",
      "error in report\n",
      "error in report\n",
      "error in report\n",
      "error in report\n",
      "error in report\n",
      "error in report\n",
      "error in report\n"
     ]
    }
   ],
   "source": [
    "reports_df = get_data('../data/bigfoot_data.json')"
   ]
  },
  {
   "cell_type": "code",
   "execution_count": 8,
   "metadata": {},
   "outputs": [
    {
     "name": "stdout",
     "output_type": "stream",
     "text": [
      "<class 'pandas.core.frame.DataFrame'>\n",
      "RangeIndex: 4807 entries, 0 to 4806\n",
      "Data columns (total 18 columns):\n",
      "ALSO NOTICED           3185 non-null object\n",
      "COUNTY                 4540 non-null object\n",
      "DATE                   3222 non-null object\n",
      "ENVIRONMENT            4517 non-null object\n",
      "LOCATION DETAILS       4047 non-null object\n",
      "MONTH                  4181 non-null object\n",
      "NEAREST ROAD           4086 non-null object\n",
      "NEAREST TOWN           4440 non-null object\n",
      "OBSERVED               4767 non-null object\n",
      "OTHER STORIES          3383 non-null object\n",
      "OTHER WITNESSES        4325 non-null object\n",
      "SEASON                 4799 non-null object\n",
      "STATE                  4540 non-null object\n",
      "TIME AND CONDITIONS    4292 non-null object\n",
      "YEAR                   4799 non-null object\n",
      "id                     4807 non-null object\n",
      "submitted_date         4807 non-null object\n",
      "text                   4807 non-null object\n",
      "dtypes: object(18)\n",
      "memory usage: 676.1+ KB\n"
     ]
    }
   ],
   "source": [
    "reports_df.info()"
   ]
  },
  {
   "cell_type": "code",
   "execution_count": null,
   "metadata": {},
   "outputs": [],
   "source": [
    "reports_df.index"
   ]
  },
  {
   "cell_type": "code",
   "execution_count": null,
   "metadata": {},
   "outputs": [],
   "source": [
    "reports_df['text'][0]"
   ]
  },
  {
   "cell_type": "code",
   "execution_count": null,
   "metadata": {},
   "outputs": [],
   "source": []
  }
 ],
 "metadata": {
  "kernelspec": {
   "display_name": "Python [conda env:root] *",
   "language": "python",
   "name": "conda-root-py"
  },
  "language_info": {
   "codemirror_mode": {
    "name": "ipython",
    "version": 3
   },
   "file_extension": ".py",
   "mimetype": "text/x-python",
   "name": "python",
   "nbconvert_exporter": "python",
   "pygments_lexer": "ipython3",
   "version": "3.7.3"
  }
 },
 "nbformat": 4,
 "nbformat_minor": 4
}
